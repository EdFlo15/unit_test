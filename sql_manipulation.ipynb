{
 "cells": [
  {
   "cell_type": "markdown",
   "metadata": {},
   "source": [
    "## manipulation SQL Querys with SQLGlot"
   ]
  },
  {
   "cell_type": "markdown",
   "metadata": {},
   "source": [
    "SQLGlot is a powerful and versatile SQL parser, transpiler, and optimizer library for Python.\n",
    "\n",
    "SQLGlot allows you to parse SQL queries into abstract syntax trees (ASTs), manipulate those trees, and then generate SQL again. This capability enables several key features:\n",
    "\n",
    "1. SQL dialect translation: Convert queries between different SQL dialects like PostgreSQL, MySQL, Snowflake, and many others.\n",
    "\n",
    "2. Query analysis and optimization: Examine and modify query structure programmatically.\n",
    "\n",
    "3. SQL generation: Build complex SQL queries programmatically using Python.\n",
    "\n",
    "4. Syntax checking and formatting: Validate and prettify SQL queries.\n",
    "\n",
    "Some notable aspects of SQLGlot include:\n",
    "\n",
    "- Support for a wide range of SQL dialects\n",
    "- No dependencies, making it lightweight and easy to integrate\n",
    "- Extensibility to add custom functions or dialects\n",
    "- Preservation of comments and formatting during parsing and generation\n",
    "\n",
    "SQLGlot is particularly useful for data engineers, database administrators, and developers working with multiple database systems or needing to programmatically manipulate SQL.\n",
    "\n",
    "SQLGlot, like many SQL parsing and manipulation libraries, works extensively with Abstract Syntax Trees (ASTs). Here how this works in the context of SQLGlot:\n",
    "\n",
    "- Parsing:\n",
    "When you input a SQL query into SQLGlot, it parses the SQL text and constructs an AST representing the structure of that query.\n",
    "\n",
    "- Representation:\n",
    "The AST in SQLGlot represents SQL-specific constructs. For example, SELECT statements, WHERE clauses, JOIN operations, and individual expressions are all represented as nodes in the tree.\n",
    "- Manipulation:\n",
    "Once the SQL is parsed into an AST, SQLGlot allows you to traverse and modify this tree structure. This is where much of the library's power comes from.\n",
    "- Generation:\n",
    "After any manipulations, SQLGlot can then convert the AST back into SQL text, potentially in a different dialect."
   ]
  },
  {
   "attachments": {
    "image.png": {
     "image/png": "[encoded data removed]"
    }
   },
   "cell_type": "markdown",
   "metadata": {},
   "source": [
    "![image.png](attachment:image.png)"
   ]
  },
  {
   "cell_type": "markdown",
   "metadata": {},
   "source": [
    "#### python version"
   ]
  },
  {
   "cell_type": "code",
   "execution_count": 35,
   "metadata": {},
   "outputs": [
    {
     "name": "stdout",
     "output_type": "stream",
     "text": [
      "Python 3.8.10\n"
     ]
    }
   ],
   "source": [
    "!python -V"
   ]
  },
  {
   "cell_type": "markdown",
   "metadata": {},
   "source": [
    "#### libraries"
   ]
  },
  {
   "cell_type": "code",
   "execution_count": 38,
   "metadata": {},
   "outputs": [],
   "source": [
    "from sqlglot import select, condition, parse_one, exp"
   ]
  },
  {
   "cell_type": "markdown",
   "metadata": {},
   "source": [
    "#### version library"
   ]
  },
  {
   "cell_type": "code",
   "execution_count": 119,
   "metadata": {},
   "outputs": [
    {
     "name": "stdout",
     "output_type": "stream",
     "text": [
      "25.21.2\n"
     ]
    }
   ],
   "source": [
    "print(sqlglot.__version__)"
   ]
  },
  {
   "cell_type": "markdown",
   "metadata": {},
   "source": [
    "## Simple example"
   ]
  },
  {
   "cell_type": "code",
   "execution_count": 10,
   "metadata": {},
   "outputs": [
    {
     "data": {
      "text/plain": [
       "'SELECT * FROM y WHERE city = cali AND y = 1'"
      ]
     },
     "execution_count": 10,
     "metadata": {},
     "output_type": "execute_result"
    }
   ],
   "source": [
    "where = condition(\"city=cali\").and_(\"y=1\")\n",
    "select(\"*\").from_(\"y\").where(where).sql()"
   ]
  },
  {
   "cell_type": "markdown",
   "metadata": {},
   "source": [
    "#### Adding element to a where clause "
   ]
  },
  {
   "cell_type": "code",
   "execution_count": 26,
   "metadata": {},
   "outputs": [
    {
     "name": "stdout",
     "output_type": "stream",
     "text": [
      "Modified SQL Query:\n",
      "SELECT * FROM sales WHERE region = 'North' AND amount > 2000\n"
     ]
    }
   ],
   "source": [
    "\n",
    "# Original SQL query\n",
    "query = \"SELECT * FROM sales WHERE region = 'North'\"\n",
    "\n",
    "# Parse the query into an Expression object\n",
    "parsed = parse_one(query)\n",
    "\n",
    "# Extract the existing WHERE clause\n",
    "existing_where = parsed.args.get('where')\n",
    "\n",
    "# Create a new condition to add, e.g., \"AND amount > 1000\"\n",
    "new_condition = exp.GT(\n",
    "    this=exp.column(\"amount\"),\n",
    "    expression=exp.Literal.number(2000)\n",
    ")\n",
    "\n",
    "# Combine the existing WHERE clause with the new condition using AND\n",
    "combined_where = exp.and_(existing_where, new_condition)\n",
    "\n",
    "# Set the new WHERE clause back into the parsed query\n",
    "parsed.set(\"where\", combined_where)\n",
    "\n",
    "# Reconstruct the SQL query\n",
    "modified_query = parsed.sql()\n",
    "print(\"Modified SQL Query:\")\n",
    "print(modified_query)\n"
   ]
  },
  {
   "cell_type": "code",
   "execution_count": 28,
   "metadata": {},
   "outputs": [
    {
     "name": "stdout",
     "output_type": "stream",
     "text": [
      "Modified SQL Query:\n",
      "SELECT * FROM sales WHERE region = 'North' AND amount < 2000\n"
     ]
    }
   ],
   "source": [
    "\n",
    "# Original SQL query\n",
    "query = \"SELECT * FROM sales WHERE region = 'North'\"\n",
    "\n",
    "# Parse the query into an Expression object\n",
    "parsed = parse_one(query)\n",
    "\n",
    "# Extract the existing WHERE clause\n",
    "existing_where = parsed.args.get('where')\n",
    "\n",
    "# Create a new condition to add, e.g., \"AND amount > 1000\"\n",
    "new_condition = exp.LT(\n",
    "    this=exp.column(\"amount\"),\n",
    "    expression=exp.Literal.number(2000)\n",
    ")\n",
    "\n",
    "# Combine the existing WHERE clause with the new condition using AND\n",
    "combined_where = exp.and_(existing_where, new_condition)\n",
    "\n",
    "# Set the new WHERE clause back into the parsed query\n",
    "parsed.set(\"where\", combined_where)\n",
    "\n",
    "# Reconstruct the SQL query\n",
    "modified_query = parsed.sql()\n",
    "print(\"Modified SQL Query:\")\n",
    "print(modified_query)"
   ]
  },
  {
   "cell_type": "code",
   "execution_count": 27,
   "metadata": {},
   "outputs": [
    {
     "name": "stdout",
     "output_type": "stream",
     "text": [
      "Modified SQL Query:\n",
      "SELECT * FROM sales WHERE region = 'North' OR region = 'South'\n"
     ]
    }
   ],
   "source": [
    "\n",
    "# Original SQL query\n",
    "query = \"SELECT * FROM sales WHERE region = 'North'\"\n",
    "\n",
    "# Parse the query\n",
    "parsed = parse_one(query)\n",
    "\n",
    "# Create a new condition, e.g., \"OR region = 'South'\"\n",
    "new_condition = exp.EQ(\n",
    "    this=exp.column(\"region\"),\n",
    "    expression=exp.Literal.string(\"South\")\n",
    ")\n",
    "\n",
    "# Combine with existing WHERE clause using OR\n",
    "combined_where = exp.or_(parsed.args.get('where'), new_condition)\n",
    "\n",
    "# Set the new WHERE clause\n",
    "parsed.set(\"where\", combined_where)\n",
    "\n",
    "# Reconstruct the SQL query\n",
    "modified_query = parsed.sql()\n",
    "print(\"Modified SQL Query:\")\n",
    "print(modified_query)\n"
   ]
  },
  {
   "cell_type": "markdown",
   "metadata": {},
   "source": [
    "#### identify parts of a query"
   ]
  },
  {
   "cell_type": "code",
   "execution_count": 29,
   "metadata": {},
   "outputs": [
    {
     "name": "stdout",
     "output_type": "stream",
     "text": [
      "GROUP BY department\n"
     ]
    }
   ],
   "source": [
    "\n",
    "# Parse the original query\n",
    "\n",
    "sql_query=\"\"\"\n",
    "SELECT department, AVG(salary) as avg_salary, COUNT(*) as employee_count\n",
    "FROM employees\n",
    "WHERE hire_date >= '2020-01-01'\n",
    "GROUP BY department\n",
    "HAVING COUNT(*) > 5\n",
    "ORDER BY avg_salary DESC\n",
    "\"\"\"\n",
    "query = parse_one(sql_query)\n",
    "\n",
    "# Find the WHERE clause\n",
    "where_exp = query.find(exp.Group)\n",
    "\n",
    "print(where_exp)\n",
    "\n"
   ]
  },
  {
   "cell_type": "markdown",
   "metadata": {},
   "source": [
    "#### Change the name of a table in a simple query"
   ]
  },
  {
   "cell_type": "code",
   "execution_count": 50,
   "metadata": {},
   "outputs": [
    {
     "name": "stdout",
     "output_type": "stream",
     "text": [
      "SELECT department, AVG(salary) AS average_salary FROM my_table_edu GROUP BY department HAVING AVG(salary) > 50000 ORDER BY average_salary DESC\n"
     ]
    }
   ],
   "source": [
    "import sqlglot\n",
    "from sqlglot import exp\n",
    "\n",
    "def replace_table_names(sql, new_table_name):\n",
    "    \"\"\"\n",
    "    Replaces all table names in a SQL statement with a new table name.\n",
    "\n",
    "    Args:\n",
    "        sql (str): The original SQL statement.\n",
    "        new_table_name (str): The new table name to use.\n",
    "\n",
    "    Returns:\n",
    "        str: The SQL statement with all table names replaced.\n",
    "    \"\"\"\n",
    "    # Parse the SQL statement into an AST\n",
    "    expression = sqlglot.parse_one(sql)\n",
    "\n",
    "    # Define a function to replace all table names\n",
    "    def replace_tables(node):\n",
    "        if isinstance(node, exp.Table):\n",
    "            return exp.Table(this=new_table_name, alias=node.alias)\n",
    "        return node\n",
    "\n",
    "    # Apply the transformation\n",
    "    new_expression = expression.transform(replace_tables)\n",
    "\n",
    "    # Generate the new SQL statement\n",
    "    return new_expression.sql()\n",
    "\n",
    "\n",
    "# Original SQL statement\n",
    "sql = \"SELECT * FROM my_table WHERE id = 1;\"\n",
    "sql = \"\"\"\n",
    "    SELECT department, AVG(salary) AS average_salary\n",
    "    FROM employees\n",
    "    GROUP BY department\n",
    "    HAVING AVG(salary) > 50000\n",
    "    ORDER BY average_salary DESC;\n",
    "\"\"\"\n",
    "\n",
    "\n",
    "# Replace all table names with 'new_table'\n",
    "new_sql = replace_table_names(sql, 'my_table_edu')\n",
    "\n",
    "print(new_sql)\n"
   ]
  },
  {
   "cell_type": "markdown",
   "metadata": {},
   "source": [
    "#### identify a subquery in a  query"
   ]
  },
  {
   "cell_type": "code",
   "execution_count": 2,
   "metadata": {},
   "outputs": [
    {
     "name": "stdout",
     "output_type": "stream",
     "text": [
      "True\n",
      "False\n",
      "False\n",
      "False\n",
      "False\n",
      "True\n",
      "True\n",
      "False\n"
     ]
    }
   ],
   "source": [
    "import sqlglot\n",
    "\n",
    "def has_subquery(sql):\n",
    "    try:\n",
    "        parsed = sqlglot.parse_one(sql)\n",
    "        return any(isinstance(node, sqlglot.exp.Subquery) for node in parsed.walk())\n",
    "    except Exception:\n",
    "        return False\n",
    "\n",
    "# Example usage\n",
    "sql_with_subquery = \"SELECT * FROM (SELECT id FROM users) AS subquery\"\n",
    "sql_without_subquery = \"SELECT * FROM users\"\n",
    "sql3=\"\"\"\n",
    "SELECT name, age \n",
    "FROM employees \n",
    "WHERE department = 'Sales';\n",
    "\"\"\"\n",
    "\n",
    "sql4=\"\"\"\n",
    "SELECT product_name, unit_price\n",
    "FROM products\n",
    "WHERE category_id = 1\n",
    "ORDER BY unit_price DESC\n",
    "LIMIT 5;\n",
    "\"\"\"\n",
    "sql5=\"\"\"\n",
    "SELECT department, AVG(salary) as avg_salary\n",
    "FROM employees\n",
    "GROUP BY department\n",
    "HAVING AVG(salary) > 50000\n",
    "ORDER BY avg_salary DESC;\n",
    "\"\"\"\n",
    "sql6=\"\"\"\n",
    "SELECT employee_name, salary\n",
    "FROM employees\n",
    "WHERE salary > (\n",
    "    SELECT AVG(salary)\n",
    "    FROM employees\n",
    "    WHERE department = 'Sales'\n",
    ")\n",
    "ORDER BY salary DESC;\n",
    "\"\"\"\n",
    "sql7=\"\"\"\n",
    "SELECT p.product_name, p.unit_price\n",
    "FROM products p\n",
    "WHERE p.unit_price > (\n",
    "    SELECT AVG(unit_price)\n",
    "    FROM products\n",
    "    WHERE category_id = p.category_id\n",
    ")\n",
    "ORDER BY p.category_id, p.unit_price DESC;\n",
    "\"\"\"\n",
    "sql8=\"\"\"\n",
    "SELECT o.order_id, c.customer_name, p.product_name, od.quantity, p.unit_price\n",
    "FROM orders o\n",
    "JOIN customers c ON o.customer_id = c.customer_id\n",
    "JOIN order_details od ON o.order_id = od.order_id\n",
    "JOIN products p ON od.product_id = p.product_id\n",
    "WHERE o.order_date >= '2023-01-01'\n",
    "  AND o.order_date < '2024-01-01'\n",
    "ORDER BY o.order_id, p.product_name;\n",
    "\n",
    "\"\"\"\n",
    "sql=\"\"\"\n",
    "\"\"\"\n",
    "\n",
    "print(has_subquery(sql_with_subquery))    # True\n",
    "print(has_subquery(sql_without_subquery)) # False\n",
    "print(has_subquery(sql3)) \n",
    "print(has_subquery(sql4)) \n",
    "print(has_subquery(sql5)) \n",
    "print(has_subquery(sql6)) \n",
    "print(has_subquery(sql7)) \n",
    "print(has_subquery(sql8)) "
   ]
  },
  {
   "cell_type": "markdown",
   "metadata": {},
   "source": [
    "#### identify a GROUP BY in a query in general"
   ]
  },
  {
   "cell_type": "code",
   "execution_count": 3,
   "metadata": {},
   "outputs": [],
   "source": [
    "import sqlglot\n",
    "\n",
    "def has_group_by(sql):\n",
    "    try:\n",
    "        parsed = sqlglot.parse_one(sql)\n",
    "        return any(isinstance(node, sqlglot.exp.Group) for node in parsed.walk())\n",
    "    except Exception:\n",
    "        return False\n"
   ]
  },
  {
   "cell_type": "code",
   "execution_count": 4,
   "metadata": {},
   "outputs": [
    {
     "name": "stdout",
     "output_type": "stream",
     "text": [
      "Query 1: Has GROUP BY\n",
      "SQL: SELECT department, AVG(salary) FROM employees GROUP BY department\n",
      "\n",
      "Query 2: Has GROUP BY\n",
      "SQL: SELECT country, COUNT(*) FROM customers GROUP BY country\n",
      "\n",
      "Query 3: Has GROUP BY\n",
      "SQL: SELECT product_category, SUM(sales) FROM orders GROUP BY product_category\n",
      "\n",
      "Query 4: Has GROUP BY\n",
      "SQL: SELECT YEAR(order_date), COUNT(*) FROM orders GROUP BY YEAR(order_date)\n",
      "\n",
      "Query 5: Has GROUP BY\n",
      "SQL: SELECT department, job_title, AVG(salary) FROM employees GROUP BY department, job_title\n",
      "\n",
      "Query 6: Has GROUP BY\n",
      "SQL: SELECT customer_id, SUM(total) AS total_spent FROM orders GROUP BY customer_id HAVING total_spent > 1000\n",
      "\n",
      "Query 7: Has GROUP BY\n",
      "SQL: SELECT product_id, AVG(rating) FROM reviews GROUP BY product_id ORDER BY AVG(rating) DESC\n",
      "\n",
      "Query 8: Has GROUP BY\n",
      "SQL: SELECT DATE(timestamp), COUNT(*) FROM logs GROUP BY DATE(timestamp)\n",
      "\n",
      "Query 9: Has GROUP BY\n",
      "SQL: SELECT category, subcategory, COUNT(*) FROM products GROUP BY GROUPING SETS ((category), (category, subcategory))\n",
      "\n",
      "Query 10: Has GROUP BY\n",
      "SQL: SELECT EXTRACT(YEAR FROM date), EXTRACT(MONTH FROM date), SUM(amount) FROM transactions GROUP BY EXTRACT(YEAR FROM date), EXTRACT(MONTH FROM date)\n",
      "\n",
      "Query 11: No GROUP BY\n",
      "SQL: SELECT * FROM employees\n",
      "\n",
      "Query 12: No GROUP BY\n",
      "SQL: SELECT name, salary FROM employees WHERE department = 'Sales'\n",
      "\n",
      "Query 13: No GROUP BY\n",
      "SQL: SELECT product_name, price FROM products ORDER BY price DESC\n",
      "\n",
      "Query 14: No GROUP BY\n",
      "SQL: SELECT DISTINCT category FROM products\n",
      "\n",
      "Query 15: No GROUP BY\n",
      "SQL: SELECT customer_name FROM customers WHERE country IN ('USA', 'Canada')\n",
      "\n",
      "Query 16: No GROUP BY\n",
      "SQL: SELECT order_id, customer_id, order_date FROM orders WHERE order_date BETWEEN '2023-01-01' AND '2023-12-31'\n",
      "\n",
      "Query 17: No GROUP BY\n",
      "SQL: SELECT e.name, d.department_name FROM employees e JOIN departments d ON e.department_id = d.id\n",
      "\n",
      "Query 18: No GROUP BY\n",
      "SQL: SELECT product_name, (SELECT AVG(price) FROM products) AS avg_price FROM products\n",
      "\n",
      "Query 19: No GROUP BY\n",
      "SQL: SELECT customer_name, (SELECT COUNT(*) FROM orders WHERE orders.customer_id = customers.id) AS order_count FROM customers\n",
      "\n",
      "Query 20: No GROUP BY\n",
      "SQL: WITH ranked_products AS (SELECT *, RANK() OVER (PARTITION BY category ORDER BY price DESC) AS price_rank FROM products) SELECT * FROM ranked_products WHERE price_rank <= 3\n",
      "\n"
     ]
    }
   ],
   "source": [
    "# SQL queries to test has_group_by function\n",
    "sql_queries = [\n",
    "    # Queries with GROUP BY\n",
    "    \"SELECT department, AVG(salary) FROM employees GROUP BY department\",\n",
    "    \"SELECT country, COUNT(*) FROM customers GROUP BY country\",\n",
    "    \"SELECT product_category, SUM(sales) FROM orders GROUP BY product_category\",\n",
    "    \"SELECT YEAR(order_date), COUNT(*) FROM orders GROUP BY YEAR(order_date)\",\n",
    "    \"SELECT department, job_title, AVG(salary) FROM employees GROUP BY department, job_title\",\n",
    "    \"SELECT customer_id, SUM(total) AS total_spent FROM orders GROUP BY customer_id HAVING total_spent > 1000\",\n",
    "    \"SELECT product_id, AVG(rating) FROM reviews GROUP BY product_id ORDER BY AVG(rating) DESC\",\n",
    "    \"SELECT DATE(timestamp), COUNT(*) FROM logs GROUP BY DATE(timestamp)\",\n",
    "    \"SELECT category, subcategory, COUNT(*) FROM products GROUP BY GROUPING SETS ((category), (category, subcategory))\",\n",
    "    \"SELECT EXTRACT(YEAR FROM date), EXTRACT(MONTH FROM date), SUM(amount) FROM transactions GROUP BY EXTRACT(YEAR FROM date), EXTRACT(MONTH FROM date)\",\n",
    "\n",
    "    # Queries without GROUP BY\n",
    "    \"SELECT * FROM employees\",\n",
    "    \"SELECT name, salary FROM employees WHERE department = 'Sales'\",\n",
    "    \"SELECT product_name, price FROM products ORDER BY price DESC\",\n",
    "    \"SELECT DISTINCT category FROM products\",\n",
    "    \"SELECT customer_name FROM customers WHERE country IN ('USA', 'Canada')\",\n",
    "    \"SELECT order_id, customer_id, order_date FROM orders WHERE order_date BETWEEN '2023-01-01' AND '2023-12-31'\",\n",
    "    \"SELECT e.name, d.department_name FROM employees e JOIN departments d ON e.department_id = d.id\",\n",
    "    \"SELECT product_name, (SELECT AVG(price) FROM products) AS avg_price FROM products\",\n",
    "    \"SELECT customer_name, (SELECT COUNT(*) FROM orders WHERE orders.customer_id = customers.id) AS order_count FROM customers\",\n",
    "    \"WITH ranked_products AS (SELECT *, RANK() OVER (PARTITION BY category ORDER BY price DESC) AS price_rank FROM products) SELECT * FROM ranked_products WHERE price_rank <= 3\"\n",
    "]\n",
    "\n",
    "# Test the has_group_by function\n",
    "for i, query in enumerate(sql_queries, 1):\n",
    "    print(f\"Query {i}: {'Has GROUP BY' if has_group_by(query) else 'No GROUP BY'}\")\n",
    "    print(f\"SQL: {query}\\n\")"
   ]
  },
  {
   "cell_type": "code",
   "execution_count": 5,
   "metadata": {},
   "outputs": [],
   "source": [
    "import sqlglot\n",
    "\n",
    "def has_group_by_in_subquery(sql):\n",
    "    try:\n",
    "        parsed = sqlglot.parse_one(sql)\n",
    "        return _has_group_by_in_subquery(parsed)\n",
    "    except Exception:\n",
    "        return False\n",
    "\n",
    "def _has_group_by_in_subquery(node):\n",
    "    if isinstance(node, sqlglot.exp.Select):\n",
    "        if any(isinstance(child, sqlglot.exp.Group) for child in node.walk()):\n",
    "            return True\n",
    "        for child in node.walk():\n",
    "            if _has_group_by_in_subquery(child):\n",
    "                return True\n",
    "    return False"
   ]
  },
  {
   "cell_type": "code",
   "execution_count": null,
   "metadata": {},
   "outputs": [],
   "source": []
  },
  {
   "cell_type": "code",
   "execution_count": null,
   "metadata": {},
   "outputs": [],
   "source": []
  },
  {
   "cell_type": "code",
   "execution_count": null,
   "metadata": {},
   "outputs": [],
   "source": []
  },
  {
   "cell_type": "markdown",
   "metadata": {},
   "source": [
    "#### remove a colum from select statement 1 at tieme"
   ]
  },
  {
   "cell_type": "code",
   "execution_count": 81,
   "metadata": {},
   "outputs": [
    {
     "name": "stdout",
     "output_type": "stream",
     "text": [
      "Original SQL: SELECT id, name, age, email FROM users WHERE age > 18\n",
      "Modified SQL: SELECT id, name, age FROM users WHERE age > 18\n"
     ]
    }
   ],
   "source": [
    "import sqlglot\n",
    "from sqlglot import exp, parse_one\n",
    "\n",
    "def remove_column_from_select(sql, column_to_remove):\n",
    "    def transform(node):\n",
    "        if isinstance(node, exp.Select):\n",
    "            new_expressions = [\n",
    "                expr for expr in node.args['expressions']\n",
    "                if not (isinstance(expr, exp.Column) and expr.name == column_to_remove)\n",
    "            ]\n",
    "            return exp.Select(**{**node.args, 'expressions': new_expressions})\n",
    "        return node\n",
    "\n",
    "    parsed = parse_one(sql)\n",
    "    modified = parsed.transform(transform)\n",
    "    return modified.sql()\n",
    "\n",
    "# Example usage\n",
    "original_sql = \"SELECT id, name, age, email FROM users WHERE age > 18\"\n",
    "modified_sql = remove_column_from_select(original_sql, \"email\")\n",
    "\n",
    "print(\"Original SQL:\", original_sql)\n",
    "print(\"Modified SQL:\", modified_sql)"
   ]
  },
  {
   "cell_type": "markdown",
   "metadata": {},
   "source": [
    "#### remove more than 1 column at a time in SELECT statement , the parameter must be a list"
   ]
  },
  {
   "cell_type": "code",
   "execution_count": 82,
   "metadata": {},
   "outputs": [
    {
     "name": "stdout",
     "output_type": "stream",
     "text": [
      "Original SQL: SELECT id, name, age, email, phone, address FROM users WHERE age > 18\n",
      "Modified SQL: SELECT id, name, email FROM users WHERE age > 18\n",
      "Columns removed: ['age', 'phone', 'address']\n",
      "\n",
      "Another Original SQL: SELECT product_id, name, price, stock, category, supplier FROM products\n",
      "Another Modified SQL: SELECT product_id, name, price, category FROM products\n",
      "Columns removed: ['stock', 'supplier']\n"
     ]
    }
   ],
   "source": [
    "import sqlglot\n",
    "from sqlglot import exp, parse_one\n",
    "\n",
    "def remove_columns_from_select(sql, columns_to_remove):\n",
    "    def transform(node):\n",
    "        if isinstance(node, exp.Select):\n",
    "            new_expressions = [\n",
    "                expr for expr in node.args['expressions']\n",
    "                if not (isinstance(expr, exp.Column) and expr.name in columns_to_remove)\n",
    "            ]\n",
    "            return exp.Select(**{**node.args, 'expressions': new_expressions})\n",
    "        return node\n",
    "\n",
    "    parsed = parse_one(sql)\n",
    "    modified = parsed.transform(transform)\n",
    "    return modified.sql()\n",
    "\n",
    "# Example usage\n",
    "original_sql = \"SELECT id, name, age, email, phone, address FROM users WHERE age > 18\"\n",
    "columns_to_remove = [\"age\", \"phone\", \"address\"]\n",
    "modified_sql = remove_columns_from_select(original_sql, columns_to_remove)\n",
    "\n",
    "print(\"Original SQL:\", original_sql)\n",
    "print(\"Modified SQL:\", modified_sql)\n",
    "print(\"Columns removed:\", columns_to_remove)\n",
    "\n",
    "# Additional example with different columns\n",
    "another_sql = \"SELECT product_id, name, price, stock, category, supplier FROM products\"\n",
    "another_columns_to_remove = [\"stock\", \"supplier\"]\n",
    "another_modified_sql = remove_columns_from_select(another_sql, another_columns_to_remove)\n",
    "\n",
    "print(\"\\nAnother Original SQL:\", another_sql)\n",
    "print(\"Another Modified SQL:\", another_modified_sql)\n",
    "print(\"Columns removed:\", another_columns_to_remove)"
   ]
  },
  {
   "cell_type": "markdown",
   "metadata": {},
   "source": [
    "#### exellent code to remove categories in a group by statement"
   ]
  },
  {
   "cell_type": "code",
   "execution_count": 83,
   "metadata": {},
   "outputs": [
    {
     "name": "stdout",
     "output_type": "stream",
     "text": [
      "Original SQL: SELECT department, job_title, AVG(salary) FROM employees GROUP BY department, job_title, hire_year\n",
      "Modified SQL: SELECT department, job_title, AVG(salary) FROM employees GROUP BY department\n",
      "Fields removed from GROUP BY: ['job_title', 'hire_year']\n",
      "\n",
      "Another Original SQL: SELECT category, subcategory, YEAR(order_date), SUM(sales) FROM orders GROUP BY category, subcategory, YEAR(order_date)\n",
      "Another Modified SQL: SELECT category, subcategory, YEAR(order_date), SUM(sales) FROM orders GROUP BY category, YEAR(order_date)\n",
      "Fields removed from GROUP BY: ['subcategory']\n",
      "\n",
      "All Fields Original SQL: SELECT department, AVG(salary) FROM employees GROUP BY department\n",
      "All Fields Modified SQL: SELECT department, AVG(salary) FROM employees\n",
      "Fields removed from GROUP BY: ['department']\n"
     ]
    }
   ],
   "source": [
    "import sqlglot\n",
    "from sqlglot import exp, parse_one\n",
    "\n",
    "def remove_fields_from_group_by(sql, fields_to_remove):\n",
    "    def transform(node):\n",
    "        if isinstance(node, exp.Group):\n",
    "            new_expressions = [\n",
    "                expr for expr in node.args['expressions']\n",
    "                if not (isinstance(expr, exp.Column) and expr.name in fields_to_remove)\n",
    "            ]\n",
    "            # If all fields are removed, return None to remove the entire GROUP BY\n",
    "            if not new_expressions:\n",
    "                return None\n",
    "            return exp.Group(**{**node.args, 'expressions': new_expressions})\n",
    "        return node\n",
    "\n",
    "    parsed = parse_one(sql)\n",
    "    modified = parsed.transform(transform)\n",
    "    return modified.sql()\n",
    "\n",
    "# Example usage\n",
    "original_sql = \"SELECT department, job_title, AVG(salary) FROM employees GROUP BY department, job_title, hire_year\"\n",
    "fields_to_remove = [\"job_title\", \"hire_year\"]\n",
    "modified_sql = remove_fields_from_group_by(original_sql, fields_to_remove)\n",
    "\n",
    "print(\"Original SQL:\", original_sql)\n",
    "print(\"Modified SQL:\", modified_sql)\n",
    "print(\"Fields removed from GROUP BY:\", fields_to_remove)\n",
    "\n",
    "# Additional example\n",
    "another_sql = \"SELECT category, subcategory, YEAR(order_date), SUM(sales) FROM orders GROUP BY category, subcategory, YEAR(order_date)\"\n",
    "another_fields_to_remove = [\"subcategory\"]\n",
    "another_modified_sql = remove_fields_from_group_by(another_sql, another_fields_to_remove)\n",
    "\n",
    "print(\"\\nAnother Original SQL:\", another_sql)\n",
    "print(\"Another Modified SQL:\", another_modified_sql)\n",
    "print(\"Fields removed from GROUP BY:\", another_fields_to_remove)\n",
    "\n",
    "# Example where all GROUP BY fields are removed\n",
    "all_fields_sql = \"SELECT department, AVG(salary) FROM employees GROUP BY department\"\n",
    "all_fields_to_remove = [\"department\"]\n",
    "all_fields_modified_sql = remove_fields_from_group_by(all_fields_sql, all_fields_to_remove)\n",
    "\n",
    "print(\"\\nAll Fields Original SQL:\", all_fields_sql)\n",
    "print(\"All Fields Modified SQL:\", all_fields_modified_sql)\n",
    "print(\"Fields removed from GROUP BY:\", all_fields_to_remove)"
   ]
  },
  {
   "cell_type": "markdown",
   "metadata": {},
   "source": [
    "#### trying to remove condition in WHERE clause"
   ]
  },
  {
   "cell_type": "markdown",
   "metadata": {},
   "source": [
    "work perfect ones a time, pass unit test"
   ]
  },
  {
   "cell_type": "code",
   "execution_count": 5,
   "metadata": {},
   "outputs": [],
   "source": [
    "import sqlglot\n",
    "\n",
    "def modify_sql_query(sql_query, condition_to_remove):\n",
    "    expression = sqlglot.parse_one(sql_query)\n",
    "    def remove_condition(exp):\n",
    "        if isinstance(exp, sqlglot.expressions.And):\n",
    "            left_matches = exp.left.sql().strip().lower() == condition_to_remove.lower()\n",
    "            right_matches = exp.right.sql().strip().lower() == condition_to_remove.lower()\n",
    "            if left_matches and right_matches:\n",
    "                return None\n",
    "            elif left_matches:\n",
    "                return exp.right\n",
    "            elif right_matches:\n",
    "                return exp.left\n",
    "        elif isinstance(exp, sqlglot.expressions.Where):\n",
    "            # If the condition matches exactly and there are no other conditions, remove the WHERE clause\n",
    "            if exp.this.sql().strip().lower() == condition_to_remove.lower():\n",
    "                return None\n",
    "        return exp\n",
    "\n",
    "    # Modify the AST by removing the specified condition\n",
    "    modified_expression = expression.transform(remove_condition)\n",
    "\n",
    "    # If the entire WHERE clause was removed, remove the WHERE keyword from the final SQL\n",
    "    result_sql = modified_expression.sql()\n",
    "    if \"WHERE\" in result_sql.upper() and \"WHERE\" == result_sql.strip()[-5:].upper():\n",
    "        result_sql = result_sql.replace(\" WHERE\", \"\")  # Remove dangling WHERE\n",
    "\n",
    "    return result_sql\n"
   ]
  },
  {
   "cell_type": "markdown",
   "metadata": {},
   "source": [
    "#### Find a subquery inside of a query to work with"
   ]
  },
  {
   "cell_type": "code",
   "execution_count": 16,
   "metadata": {},
   "outputs": [
    {
     "name": "stdout",
     "output_type": "stream",
     "text": [
      "Subquery SQL: ['SELECT\\n  id,\\n  name\\nFROM users\\nWHERE\\n  age > 20']\n",
      "<class 'list'>\n"
     ]
    }
   ],
   "source": [
    "import sqlglot\n",
    "\n",
    "# Example SQL query with subqueries\n",
    "sql_query = \"\"\"\n",
    "SELECT * FROM (\n",
    "    SELECT id, name FROM users WHERE age > 20\n",
    ") AS subquery\n",
    "WHERE name LIKE 'A%'\n",
    "\"\"\"\n",
    "\n",
    "# Parse the SQL query\n",
    "expression = sqlglot.parse_one(sql_query)\n",
    "\n",
    "# Function to recursively find all subqueries\n",
    "def find_subqueries(exp, subqueries=[]):\n",
    "    # Check if the expression is a subquery: a SELECT nested in another expression\n",
    "    if isinstance(exp, sqlglot.expressions.Select) and exp.parent and not exp.parent.is_type('QUERY'):\n",
    "        subqueries.append(exp)\n",
    "    for arg in exp.args.values():\n",
    "        if isinstance(arg, sqlglot.expressions.Expression):\n",
    "            find_subqueries(arg, subqueries)\n",
    "    return subqueries\n",
    "\n",
    "# Extract subqueries\n",
    "subqueries = find_subqueries(expression)\n",
    "\n",
    "# Print extracted subqueries\n",
    "for subquery in subqueries:\n",
    "    # Ensure the subquery is directly transpiled without additional string processing\n",
    "    subquery_sql = sqlglot.transpile(subquery.sql(), pretty=True)\n",
    "    print(\"Subquery SQL:\", subquery_sql)\n",
    "    print(type(subquery_sql))\n",
    "\n",
    "\n",
    "\n"
   ]
  },
  {
   "cell_type": "code",
   "execution_count": 22,
   "metadata": {},
   "outputs": [
    {
     "ename": "IndexError",
     "evalue": "list index out of range",
     "output_type": "error",
     "traceback": [
      "\u001b[1;31m---------------------------------------------------------------------------\u001b[0m",
      "\u001b[1;31mIndexError\u001b[0m                                Traceback (most recent call last)",
      "Cell \u001b[1;32mIn[22], line 36\u001b[0m\n\u001b[0;32m     33\u001b[0m             modify_subqueries(arg)\n\u001b[0;32m     35\u001b[0m \u001b[38;5;66;03m# Modify the subqueries\u001b[39;00m\n\u001b[1;32m---> 36\u001b[0m \u001b[43mmodify_subqueries\u001b[49m\u001b[43m(\u001b[49m\u001b[43mexpression\u001b[49m\u001b[43m)\u001b[49m\n\u001b[0;32m     38\u001b[0m \u001b[38;5;66;03m# Generate the full modified SQL query\u001b[39;00m\n\u001b[0;32m     39\u001b[0m modified_sql \u001b[38;5;241m=\u001b[39m expression\u001b[38;5;241m.\u001b[39msql(pretty\u001b[38;5;241m=\u001b[39m\u001b[38;5;28;01mTrue\u001b[39;00m)\n",
      "Cell \u001b[1;32mIn[22], line 33\u001b[0m, in \u001b[0;36mmodify_subqueries\u001b[1;34m(exp)\u001b[0m\n\u001b[0;32m     31\u001b[0m             modify_subqueries(sub_arg)\n\u001b[0;32m     32\u001b[0m \u001b[38;5;28;01melif\u001b[39;00m \u001b[38;5;28misinstance\u001b[39m(arg, sqlglot\u001b[38;5;241m.\u001b[39mexpressions\u001b[38;5;241m.\u001b[39mExpression):\n\u001b[1;32m---> 33\u001b[0m     \u001b[43mmodify_subqueries\u001b[49m\u001b[43m(\u001b[49m\u001b[43marg\u001b[49m\u001b[43m)\u001b[49m\n",
      "Cell \u001b[1;32mIn[22], line 33\u001b[0m, in \u001b[0;36mmodify_subqueries\u001b[1;34m(exp)\u001b[0m\n\u001b[0;32m     31\u001b[0m             modify_subqueries(sub_arg)\n\u001b[0;32m     32\u001b[0m \u001b[38;5;28;01melif\u001b[39;00m \u001b[38;5;28misinstance\u001b[39m(arg, sqlglot\u001b[38;5;241m.\u001b[39mexpressions\u001b[38;5;241m.\u001b[39mExpression):\n\u001b[1;32m---> 33\u001b[0m     \u001b[43mmodify_subqueries\u001b[49m\u001b[43m(\u001b[49m\u001b[43marg\u001b[49m\u001b[43m)\u001b[49m\n",
      "Cell \u001b[1;32mIn[22], line 33\u001b[0m, in \u001b[0;36mmodify_subqueries\u001b[1;34m(exp)\u001b[0m\n\u001b[0;32m     31\u001b[0m             modify_subqueries(sub_arg)\n\u001b[0;32m     32\u001b[0m \u001b[38;5;28;01melif\u001b[39;00m \u001b[38;5;28misinstance\u001b[39m(arg, sqlglot\u001b[38;5;241m.\u001b[39mexpressions\u001b[38;5;241m.\u001b[39mExpression):\n\u001b[1;32m---> 33\u001b[0m     \u001b[43mmodify_subqueries\u001b[49m\u001b[43m(\u001b[49m\u001b[43marg\u001b[49m\u001b[43m)\u001b[49m\n",
      "Cell \u001b[1;32mIn[22], line 23\u001b[0m, in \u001b[0;36mmodify_subqueries\u001b[1;34m(exp)\u001b[0m\n\u001b[0;32m     19\u001b[0m         where_clause \u001b[38;5;241m=\u001b[39m exp\u001b[38;5;241m.\u001b[39mfind(sqlglot\u001b[38;5;241m.\u001b[39mexpressions\u001b[38;5;241m.\u001b[39mWhere)\n\u001b[0;32m     20\u001b[0m         \u001b[38;5;28;01mif\u001b[39;00m where_clause:\n\u001b[0;32m     21\u001b[0m             \u001b[38;5;66;03m# Modify the condition within the WHERE clause\u001b[39;00m\n\u001b[0;32m     22\u001b[0m             \u001b[38;5;66;03m# Create a new condition expression directly\u001b[39;00m\n\u001b[1;32m---> 23\u001b[0m             new_condition \u001b[38;5;241m=\u001b[39m \u001b[43msqlglot\u001b[49m\u001b[38;5;241;43m.\u001b[39;49m\u001b[43mparse_one\u001b[49m\u001b[43m(\u001b[49m\u001b[38;5;124;43m\"\u001b[39;49m\u001b[38;5;124;43mage > 25\u001b[39;49m\u001b[38;5;124;43m\"\u001b[39;49m\u001b[43m)\u001b[49m\u001b[38;5;241;43m.\u001b[39;49m\u001b[43mexpressions\u001b[49m\u001b[43m[\u001b[49m\u001b[38;5;241;43m0\u001b[39;49m\u001b[43m]\u001b[49m\u001b[38;5;241m.\u001b[39margs[\u001b[38;5;124m'\u001b[39m\u001b[38;5;124mthis\u001b[39m\u001b[38;5;124m'\u001b[39m]\n\u001b[0;32m     24\u001b[0m             where_clause\u001b[38;5;241m.\u001b[39mthis \u001b[38;5;241m=\u001b[39m new_condition\n\u001b[0;32m     26\u001b[0m \u001b[38;5;66;03m# Recursively apply to all subexpressions\u001b[39;00m\n",
      "\u001b[1;31mIndexError\u001b[0m: list index out of range"
     ]
    }
   ],
   "source": [
    "import sqlglot\n",
    "\n",
    "# Example SQL query with a subquery\n",
    "sql_query = \"\"\"\n",
    "SELECT * FROM (\n",
    "    SELECT id, name FROM users WHERE age > 20\n",
    ") AS subquery\n",
    "WHERE name LIKE 'A%'\n",
    "\"\"\"\n",
    "\n",
    "# Parse the SQL query\n",
    "expression = sqlglot.parse_one(sql_query)\n",
    "\n",
    "def modify_subqueries(exp):\n",
    "    if isinstance(exp, sqlglot.expressions.Select):\n",
    "        # Check if this is a subquery\n",
    "        if exp.parent and not exp.parent.is_type('QUERY'):\n",
    "            # Look for the WHERE clause to modify it\n",
    "            where_clause = exp.find(sqlglot.expressions.Where)\n",
    "            if where_clause:\n",
    "                # Modify the condition within the WHERE clause\n",
    "                # Create a new condition expression directly\n",
    "                new_condition = sqlglot.parse_one(\"age > 25\").expressions[0].args['this']\n",
    "                where_clause.this = new_condition\n",
    "\n",
    "    # Recursively apply to all subexpressions\n",
    "    for arg in exp.args.values():\n",
    "        if isinstance(arg, list):\n",
    "            for sub_arg in arg:\n",
    "                if isinstance(sub_arg, sqlglot.expressions.Expression):\n",
    "                    modify_subqueries(sub_arg)\n",
    "        elif isinstance(arg, sqlglot.expressions.Expression):\n",
    "            modify_subqueries(arg)\n",
    "\n",
    "# Modify the subqueries\n",
    "modify_subqueries(expression)\n",
    "\n",
    "# Generate the full modified SQL query\n",
    "modified_sql = expression.sql(pretty=True)\n",
    "print(\"Modified SQL Query:\", modified_sql)\n",
    "\n",
    "\n",
    "\n"
   ]
  },
  {
   "cell_type": "markdown",
   "metadata": {},
   "source": [
    "## add fields to select and group by"
   ]
  },
  {
   "cell_type": "markdown",
   "metadata": {},
   "source": [
    "given a simple query and a list the new query add element in the SELECT and GROUP BY at the same time"
   ]
  },
  {
   "cell_type": "code",
   "execution_count": 120,
   "metadata": {},
   "outputs": [],
   "source": [
    "import sqlglot\n",
    "from sqlglot.expressions import Identifier\n",
    "\n",
    "def add_fields_to_select_and_group_by(sql_query, fields_to_add):\n",
    "\n",
    "    # Parse the SQL query\n",
    "    parsed = sqlglot.parse_one(sql_query)\n",
    "    \n",
    "    # Ensure fields_to_add is a list\n",
    "    if not isinstance(fields_to_add, list):\n",
    "        fields_to_add = [fields_to_add]\n",
    "    \n",
    "    # Get existing SELECT field names\n",
    "    existing_select_fields = [select.alias_or_name for select in parsed.selects]\n",
    "    \n",
    "    # Add fields to SELECT clause\n",
    "    for field in fields_to_add:\n",
    "        if field not in existing_select_fields:\n",
    "            parsed.selects.append(Identifier(this=field))\n",
    "    \n",
    "    # Add fields to GROUP BY clause\n",
    "    group_by = parsed.args.get('group')\n",
    "    \n",
    "    if group_by:\n",
    "        # Get existing GROUP BY field names\n",
    "        existing_group_by_fields = [expr.sql() for expr in group_by.expressions]\n",
    "        for field in fields_to_add:\n",
    "            if field not in existing_group_by_fields:\n",
    "                group_by.expressions.append(Identifier(this=field))\n",
    "    else:\n",
    "        # If GROUP BY does not exist, create it\n",
    "        from sqlglot.expressions import Group\n",
    "        group_expressions = [Identifier(this=field) for field in fields_to_add]\n",
    "        parsed.set('group', Group(expressions=group_expressions))\n",
    "    \n",
    "    # Return the modified SQL query\n",
    "    return parsed.sql()\n"
   ]
  },
  {
   "cell_type": "code",
   "execution_count": 122,
   "metadata": {},
   "outputs": [
    {
     "name": "stdout",
     "output_type": "stream",
     "text": [
      "SELECT sub.customer_id, sub.city, SUM(sub.total_amount), other, other1 FROM (SELECT customer_id, city, SUM(amount) AS total_amount FROM orders GROUP BY customer_id, city) AS sub GROUP BY sub.customer_id, sub.city, other, other1\n"
     ]
    }
   ],
   "source": [
    "# Original SQL query\n",
    "sql_query1 = \"\"\"\n",
    "SELECT customer_id, city, SUM(amount) AS total_amount\n",
    "FROM orders\n",
    "GROUP BY customer_id\n",
    "\"\"\"\n",
    "\n",
    "# Only works well wihout subquery\n",
    "sql_query2 = \"\"\"\n",
    "SELECT sub.customer_id, sub.city, SUM(sub.total_amount)\n",
    "FROM (\n",
    "    SELECT customer_id, city, SUM(amount) AS total_amount\n",
    "    FROM orders\n",
    "    GROUP BY customer_id, city\n",
    ") AS sub\n",
    "GROUP BY sub.customer_id, sub.city\n",
    "\"\"\"\n",
    "# Fields you want to add\n",
    "fields_to_add = ['other', 'other1']\n",
    "\n",
    "# Call the function\n",
    "modified_sql = add_fields_to_select_and_group_by(sql_query2, fields_to_add)\n",
    "\n",
    "# Print the modified SQL query\n",
    "print(modified_sql)"
   ]
  },
  {
   "cell_type": "markdown",
   "metadata": {},
   "source": [
    "# extract some fields in select and in group by"
   ]
  },
  {
   "cell_type": "markdown",
   "metadata": {},
   "source": [
    "this can be useful because I already have a function that add from a list element to select and group by"
   ]
  },
  {
   "cell_type": "code",
   "execution_count": 15,
   "metadata": {},
   "outputs": [],
   "source": [
    "def extract_fields(sql_query):\n",
    "    \"\"\"\n",
    "    Extracts field names from the SELECT and GROUP BY clauses, excluding functions/operators in SELECT.\n",
    "\n",
    "    Parameters:\n",
    "    - sql_query (str): The SQL query string.\n",
    "\n",
    "    Returns:\n",
    "    - dict: A dictionary with keys 'select_fields' and 'group_by_fields', each containing a list of field names.\n",
    "    \"\"\"\n",
    "    import sqlglot\n",
    "    from sqlglot.expressions import Column, Identifier\n",
    "\n",
    "    # Parse the SQL query\n",
    "    parsed = sqlglot.parse_one(sql_query)\n",
    "\n",
    "    # Extract fields from SELECT clause\n",
    "    select_fields = []\n",
    "    for select_expr in parsed.selects:\n",
    "        # If the expression is a simple column or identifier, add it\n",
    "        if isinstance(select_expr, (Column, Identifier)):\n",
    "            select_fields.append(select_expr.sql())\n",
    "        else:\n",
    "            # Skip functions and expressions\n",
    "            continue\n",
    "\n",
    "    # Extract fields from GROUP BY clause\n",
    "    group_by_fields = []\n",
    "    group_by = parsed.args.get('group')\n",
    "    if group_by:\n",
    "        for group_expr in group_by.expressions:\n",
    "            # Get the SQL representation of the group by expressions\n",
    "            group_by_fields.append(group_expr.sql())\n",
    "\n",
    "    # Return the extracted fields\n",
    "    return {\n",
    "        'select_fields': select_fields,\n",
    "        'group_by_fields': group_by_fields\n",
    "    }\n"
   ]
  },
  {
   "cell_type": "code",
   "execution_count": 16,
   "metadata": {},
   "outputs": [
    {
     "name": "stdout",
     "output_type": "stream",
     "text": [
      "Fields in SELECT clause ['customer_id', 'city']\n",
      "Fields in GROUP BY clause: ['customer_id']\n"
     ]
    }
   ],
   "source": [
    "# Your SQL query as a string\n",
    "sql_query = \"\"\"\n",
    "SELECT customer_id, city, SUM(amount) AS total_amount\n",
    "FROM orders\n",
    "GROUP BY customer_id\n",
    "\"\"\"\n",
    "\n",
    "# Call the function\n",
    "fields = extract_fields(sql_query)\n",
    "\n",
    "# Access the extracted fields\n",
    "select_fields = fields['select_fields']\n",
    "group_by_fields = fields['group_by_fields']\n",
    "\n",
    "# Print the results\n",
    "print(\"Fields in SELECT clause\", select_fields)\n",
    "print(\"Fields in GROUP BY clause:\", group_by_fields)\n"
   ]
  },
  {
   "cell_type": "markdown",
   "metadata": {},
   "source": [
    "# extract some fields in select and in group by recursively"
   ]
  },
  {
   "cell_type": "markdown",
   "metadata": {},
   "source": [
    "This is very useful to have a list of values in select and group by. the this categories are passed to the function to add"
   ]
  },
  {
   "cell_type": "code",
   "execution_count": 6,
   "metadata": {},
   "outputs": [],
   "source": [
    "def extract_fields_recursive(sql_query):\n",
    "    \"\"\"\n",
    "    Recursively extracts field names from all SELECT and GROUP BY clauses in the SQL query,\n",
    "    including those within subqueries, excluding functions/operators in SELECT clauses.\n",
    "\n",
    "    Parameters:\n",
    "    - sql_query (str): The SQL query string.\n",
    "\n",
    "    Returns:\n",
    "    - list: A list of dictionaries, each containing 'select_fields' and 'group_by_fields' for each SELECT clause.\n",
    "    \"\"\"\n",
    "    import sqlglot\n",
    "    from sqlglot.expressions import Select, Column, Identifier\n",
    "\n",
    "    # List to hold the results from all SELECT clauses\n",
    "    results = []\n",
    "\n",
    "    # Parse the SQL query\n",
    "    parsed = sqlglot.parse_one(sql_query)\n",
    "\n",
    "    # Define a recursive function to traverse the AST\n",
    "    def traverse(node):\n",
    "        if isinstance(node, Select):\n",
    "            # Extract fields from the current SELECT and GROUP BY clauses\n",
    "            select_fields = []\n",
    "            for select_expr in node.selects:\n",
    "                if isinstance(select_expr, (Column, Identifier)):\n",
    "                    select_fields.append(select_expr.sql())\n",
    "            group_by_fields = []\n",
    "            group_by = node.args.get('group')\n",
    "            if group_by:\n",
    "                for group_expr in group_by.expressions:\n",
    "                    group_by_fields.append(group_expr.sql())\n",
    "\n",
    "            # Add the extracted fields to the results list\n",
    "            results.append({\n",
    "                'select_fields': select_fields,\n",
    "                'group_by_fields': group_by_fields\n",
    "            })\n",
    "\n",
    "        # Recursively traverse child nodes\n",
    "        for child in node.args.values():\n",
    "            if isinstance(child, list):\n",
    "                for item in child:\n",
    "                    if isinstance(item, sqlglot.Expression):\n",
    "                        traverse(item)\n",
    "            elif isinstance(child, sqlglot.Expression):\n",
    "                traverse(child)\n",
    "\n",
    "    # Start traversal from the root node\n",
    "    traverse(parsed)\n",
    "\n",
    "    return results\n"
   ]
  },
  {
   "cell_type": "code",
   "execution_count": 130,
   "metadata": {},
   "outputs": [
    {
     "name": "stdout",
     "output_type": "stream",
     "text": [
      "SELECT clause 1:\n",
      "  Fields in SELECT clause : ['customer_id', 'city']\n",
      "  Fields in GROUP BY clause: ['customer_id', 'city']\n",
      "\n"
     ]
    }
   ],
   "source": [
    "# Your SQL query as a string\n",
    "sql_query1 = \"\"\"\n",
    "SELECT\n",
    "  customer_id,\n",
    "  city,\n",
    "  (SELECT\n",
    "     SUM(amount) AS total_amount,\n",
    "     region\n",
    "   FROM orders_sub\n",
    "   WHERE orders_sub.customer_id = orders.customer_id\n",
    "   GROUP BY region) AS sub_total\n",
    "FROM orders\n",
    "GROUP BY customer_id, city\n",
    "\"\"\"\n",
    "\n",
    "sql_query2 = \"\"\"\n",
    "SELECT\n",
    "  customer_id,\n",
    "  city,\n",
    "  COUNT(other)\n",
    "FROM orders\n",
    "GROUP BY customer_id, city\n",
    "\"\"\"\n",
    "\n",
    "\n",
    "# Call the function\n",
    "fields_list = extract_fields_recursive(sql_query2)\n",
    "\n",
    "# Print the results\n",
    "for idx, fields in enumerate(fields_list, start=1):\n",
    "    print(f\"SELECT clause {idx}:\")\n",
    "    print(\"  Fields in SELECT clause :\", fields['select_fields'])\n",
    "    print(\"  Fields in GROUP BY clause:\", fields['group_by_fields'])\n",
    "    print()\n"
   ]
  },
  {
   "cell_type": "markdown",
   "metadata": {},
   "source": [
    "# add fields to select and group by in querys and subequerys"
   ]
  },
  {
   "cell_type": "markdown",
   "metadata": {},
   "source": [
    "this code work well for select and subquerys"
   ]
  },
  {
   "cell_type": "code",
   "execution_count": 123,
   "metadata": {},
   "outputs": [],
   "source": [
    "import sqlglot\n",
    "from sqlglot.expressions import Select, Column, Identifier, Group\n",
    "\n",
    "def add_fields_to_queries(sql_query, outer_fields_to_add, subquery_fields_to_add):\n",
    "    \"\"\"\n",
    "    Adds fields to the SELECT and GROUP BY clauses of the outer query and subqueries.\n",
    "\n",
    "    Parameters:\n",
    "    - sql_query (str): The SQL query string.\n",
    "    - outer_fields_to_add (list of str): Fields to add to the outer query.\n",
    "    - subquery_fields_to_add (list of str): Fields to add to subqueries.\n",
    "\n",
    "    Returns:\n",
    "    - str: The modified SQL query.\n",
    "    \"\"\"\n",
    "    # Parse the SQL query\n",
    "    parsed = sqlglot.parse_one(sql_query)\n",
    "    \n",
    "    # Define a helper function to recursively traverse and modify the query\n",
    "    def traverse_and_modify(node, is_subquery=False):\n",
    "        # Determine which fields to add based on whether we're in a subquery\n",
    "        fields_to_add = subquery_fields_to_add if is_subquery else outer_fields_to_add\n",
    "        \n",
    "        if isinstance(node, Select):\n",
    "            # Get existing SELECT field names\n",
    "            existing_select_fields = [select.alias_or_name for select in node.selects]\n",
    "            # Add fields to SELECT clause\n",
    "            for field in fields_to_add:\n",
    "                if field not in existing_select_fields:\n",
    "                    node.selects.append(Identifier(this=field))\n",
    "            # Modify GROUP BY clause\n",
    "            group_by = node.args.get('group')\n",
    "            if group_by:\n",
    "                existing_group_by_fields = [expr.sql() for expr in group_by.expressions]\n",
    "                for field in fields_to_add:\n",
    "                    if field not in existing_group_by_fields:\n",
    "                        group_by.expressions.append(Identifier(this=field))\n",
    "            else:\n",
    "                # If GROUP BY does not exist, create it\n",
    "                group_expressions = [Identifier(this=field) for field in fields_to_add]\n",
    "                node.set('group', Group(expressions=group_expressions))\n",
    "        \n",
    "        # Recursively traverse child nodes\n",
    "        for child in node.args.values():\n",
    "            if isinstance(child, list):\n",
    "                for item in child:\n",
    "                    if isinstance(item, sqlglot.Expression):\n",
    "                        # For subqueries, set is_subquery=True\n",
    "                        traverse_and_modify(item, is_subquery=True)\n",
    "            elif isinstance(child, sqlglot.Expression):\n",
    "                traverse_and_modify(child, is_subquery=True)\n",
    "    \n",
    "    # Start traversal from the root node (outer query)\n",
    "    traverse_and_modify(parsed, is_subquery=False)\n",
    "    \n",
    "    # Return the modified SQL query\n",
    "    return parsed.sql()\n",
    "\n"
   ]
  },
  {
   "cell_type": "code",
   "execution_count": 126,
   "metadata": {},
   "outputs": [
    {
     "name": "stdout",
     "output_type": "stream",
     "text": [
      "SELECT city, SUM(total_amount) AS city_total, city1 FROM (SELECT customer_id, city, SUM(amount) AS total_amount, city2 FROM orders GROUP BY customer_id, city, city2) AS sub WHERE total_amount > 1000 GROUP BY city, city1\n",
      "\n",
      "SELECT city, SUM(total_amount) AS city_total\n",
      "FROM (\n",
      "    SELECT customer_id, city, SUM(amount) AS total_amount\n",
      "    FROM orders\n",
      "    GROUP BY customer_id, city\n",
      ") AS sub\n",
      "WHERE total_amount > 1000\n",
      "GROUP BY city\n",
      "\n"
     ]
    }
   ],
   "source": [
    "sql_query1 = \"\"\"\n",
    "SELECT city, SUM(total_amount) AS city_total\n",
    "FROM table1\n",
    "WHERE total_amount > 1000\n",
    "GROUP BY city\n",
    "\"\"\"\n",
    "\n",
    "sql_query2 = \"\"\"\n",
    "SELECT city, SUM(total_amount) AS city_total\n",
    "FROM (\n",
    "    SELECT customer_id, city, SUM(amount) AS total_amount\n",
    "    FROM orders\n",
    "    GROUP BY customer_id, city\n",
    ") AS sub\n",
    "WHERE total_amount > 1000\n",
    "GROUP BY city\n",
    "\"\"\"\n",
    "\n",
    "# Define the fields to add\n",
    "outer_fields_to_add = ['city1']\n",
    "subquery_fields_to_add = ['city2']\n",
    "\n",
    "# Call the function\n",
    "modified_sql = add_fields_to_queries(sql_query2, outer_fields_to_add, subquery_fields_to_add)\n",
    "\n",
    "# Print the modified SQL query\n",
    "print(modified_sql)\n",
    "print(sql_query2)\n",
    "\n"
   ]
  }
 ],
 "metadata": {
  "kernelspec": {
   "display_name": "venv",
   "language": "python",
   "name": "python3"
  },
  "language_info": {
   "codemirror_mode": {
    "name": "ipython",
    "version": 3
   },
   "file_extension": ".py",
   "mimetype": "text/x-python",
   "name": "python",
   "nbconvert_exporter": "python",
   "pygments_lexer": "ipython3",
   "version": "3.8.10"
  }
 },
 "nbformat": 4,
 "nbformat_minor": 2
}
